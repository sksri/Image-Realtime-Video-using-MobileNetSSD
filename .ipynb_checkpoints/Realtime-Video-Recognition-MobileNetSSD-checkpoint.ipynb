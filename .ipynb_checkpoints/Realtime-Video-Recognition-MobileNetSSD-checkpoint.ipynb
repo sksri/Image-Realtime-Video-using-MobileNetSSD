{
 "cells": [
  {
   "cell_type": "code",
   "execution_count": 3,
   "id": "41a81c07",
   "metadata": {},
   "outputs": [],
   "source": [
    "# Import libraries\n",
    "import numpy as np\n",
    "import cv2\n",
    "import matplotlib.pyplot as plt\n",
    "%matplotlib inline"
   ]
  },
  {
   "cell_type": "code",
   "execution_count": 4,
   "id": "f822024b",
   "metadata": {},
   "outputs": [
    {
     "ename": "AttributeError",
     "evalue": "'NoneType' object has no attribute 'shape'",
     "output_type": "error",
     "traceback": [
      "\u001b[1;31m---------------------------------------------------------------------------\u001b[0m",
      "\u001b[1;31mAttributeError\u001b[0m                            Traceback (most recent call last)",
      "\u001b[1;32m<ipython-input-4-c3656f6331f3>\u001b[0m in \u001b[0;36m<module>\u001b[1;34m\u001b[0m\n\u001b[0;32m      6\u001b[0m     \u001b[0mimg_to_detect\u001b[0m \u001b[1;33m=\u001b[0m \u001b[0mcurrent_frame\u001b[0m\u001b[1;33m\u001b[0m\u001b[1;33m\u001b[0m\u001b[0m\n\u001b[0;32m      7\u001b[0m     \u001b[1;31m# get height and width of image\u001b[0m\u001b[1;33m\u001b[0m\u001b[1;33m\u001b[0m\u001b[1;33m\u001b[0m\u001b[0m\n\u001b[1;32m----> 8\u001b[1;33m     \u001b[0mimg_height\u001b[0m \u001b[1;33m=\u001b[0m \u001b[0mimg_to_detect\u001b[0m\u001b[1;33m.\u001b[0m\u001b[0mshape\u001b[0m\u001b[1;33m[\u001b[0m\u001b[1;36m0\u001b[0m\u001b[1;33m]\u001b[0m\u001b[1;33m\u001b[0m\u001b[1;33m\u001b[0m\u001b[0m\n\u001b[0m\u001b[0;32m      9\u001b[0m     \u001b[0mimg_width\u001b[0m \u001b[1;33m=\u001b[0m \u001b[0mimg_to_detect\u001b[0m\u001b[1;33m.\u001b[0m\u001b[0mshape\u001b[0m\u001b[1;33m[\u001b[0m\u001b[1;36m1\u001b[0m\u001b[1;33m]\u001b[0m\u001b[1;33m\u001b[0m\u001b[1;33m\u001b[0m\u001b[0m\n\u001b[0;32m     10\u001b[0m     \u001b[1;31m# resize to mtach input size\u001b[0m\u001b[1;33m\u001b[0m\u001b[1;33m\u001b[0m\u001b[1;33m\u001b[0m\u001b[0m\n",
      "\u001b[1;31mAttributeError\u001b[0m: 'NoneType' object has no attribute 'shape'"
     ]
    }
   ],
   "source": [
    "# Streaming webcam videos\n",
    "webcam_video_stream = cv2.VideoCapture(0)\n",
    "\n",
    "while True:\n",
    "    ret,current_frame = webcam_video_stream.read()\n",
    "    img_to_detect = current_frame\n",
    "    # get height and width of image\n",
    "    img_height = img_to_detect.shape[0]\n",
    "    img_width = img_to_detect.shape[1]\n",
    "    # resize to mtach input size\n",
    "    resized_img_to_detect = cv2.resize(img_to_detect,(300,300))\n",
    "    # convert to blob to pass into model\n",
    "    # recommended scale factor is 0.007843 and width, height of blob is 300,300 and mean of 255 is 127.5\n",
    "    img_blob = cv2.dnn.blobFromImage(resized_img_to_detect,0.007843,(300,300),127.5)\n",
    "    # Set of 21 class labels in alphabetical order (background + rest of 20 classes)\n",
    "    class_labels = ['background','aeroplane','bicycle','bird','boat','bottle','bus','car','cat','chair','cow','dining table','dog','horse','motorbike','person','sheep','sofa','train','tv/monitor']\n",
    "    # Loading pre-trained model from prototext and caffemodel files \n",
    "    mobilenetssd = cv2.dnn.readNetFromCaffe('datasets/mobilenetssd.prototext','datasets/mobilenetssd.caffemodel')\n",
    "    # Input preprocessed blob into model and pass through the model\n",
    "    mobilenetssd.setInput(img_blob)\n",
    "    # obtain the detection predictions by the model using forward() method\n",
    "    obj_detections = mobilenetssd.forward()\n",
    "    # Loop over the detections\n",
    "    no_of_detections = obj_detections.shape[2]\n",
    "\n",
    "    for index in np.arange(0, no_of_detections):\n",
    "        prediction_confidence = obj_detections[0,0,index,2]\n",
    "        # take only predictions with confidence more than 20%\n",
    "        if prediction_confidence > 0.1:\n",
    "            # get the prediction label\n",
    "            predicted_class_index = int(obj_detections[0,0,index,1])\n",
    "            predicted_class_label = class_labels[predicted_class_index]\n",
    "            # obtain the bounding box co-ordinates for the actual image from resized image size\n",
    "            bounding_box = obj_detections[0,0,index,3:7] * np.array([img_width, img_height, img_width, img_height])\n",
    "            (start_x_pt, start_y_pt, end_x_pt, end_y_pt) = bounding_box.astype(\"int\")\n",
    "\n",
    "            # Print the prediction in console\n",
    "            predicted_class_label = \"{}: {:2f}%\".format(class_labels[predicted_class_index],prediction_confidence*100)\n",
    "            print(\"predicted object {}: {}\".format(index+1,predicted_class_label))\n",
    "\n",
    "            # Draw rectangle and text in the image\n",
    "            cv2.rectangle(img_to_detect, (start_x_pt,start_y_pt), (end_x_pt,end_y_pt), (0,0,255),2)\n",
    "            cv2.putText(img_to_detect, predicted_class_label, (start_x_pt,start_y_pt-5), cv2.FONT_HERSHEY_COMPLEX, 0.5, (0,255,0),1)\n",
    "        \n",
    "    cv2.imshow(\"Detection Output\", img_to_detect)\n",
    "\n",
    "    # terminate while loop if 'q' is pressed\n",
    "    if cv2.waitKey(1) & 0xFF == ord('q'):\n",
    "        break\n",
    "\n",
    "\n",
    "# releasing the stream and camera\n",
    "webcam_video_stream.release()\n",
    "\n",
    "# close all opencv windows\n",
    "cv2.destroyAllWindows()\n"
   ]
  },
  {
   "cell_type": "code",
   "execution_count": null,
   "id": "d4759772",
   "metadata": {},
   "outputs": [],
   "source": []
  }
 ],
 "metadata": {
  "kernelspec": {
   "display_name": "Python 3",
   "language": "python",
   "name": "python3"
  },
  "language_info": {
   "codemirror_mode": {
    "name": "ipython",
    "version": 3
   },
   "file_extension": ".py",
   "mimetype": "text/x-python",
   "name": "python",
   "nbconvert_exporter": "python",
   "pygments_lexer": "ipython3",
   "version": "3.8.8"
  }
 },
 "nbformat": 4,
 "nbformat_minor": 5
}
